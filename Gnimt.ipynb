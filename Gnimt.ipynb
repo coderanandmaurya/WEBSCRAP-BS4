{
 "cells": [
  {
   "cell_type": "code",
   "execution_count": 1,
   "id": "de3d5cd7",
   "metadata": {},
   "outputs": [],
   "source": [
    "import pandas as pd\n",
    "import requests\n",
    "from bs4 import BeautifulSoup\n",
    "import numpy as np"
   ]
  },
  {
   "cell_type": "code",
   "execution_count": 2,
   "id": "4ea0288b",
   "metadata": {},
   "outputs": [],
   "source": [
    "CFaculty=requests.get('https://gnimt.org/faculty-computer-science/').text\n",
    "MFaculty=requests.get('https://gnimt.org/management-faculty/').text"
   ]
  },
  {
   "cell_type": "code",
   "execution_count": 3,
   "id": "09a4edbb",
   "metadata": {},
   "outputs": [],
   "source": [
    "Csoup=BeautifulSoup(CFaculty,'lxml')\n",
    "Msoup=BeautifulSoup(MFaculty,'lxml')"
   ]
  },
  {
   "cell_type": "code",
   "execution_count": 4,
   "id": "59b85e52",
   "metadata": {},
   "outputs": [],
   "source": [
    "#print(Csoup.prettify())"
   ]
  },
  {
   "cell_type": "code",
   "execution_count": 5,
   "id": "6bd49716",
   "metadata": {},
   "outputs": [],
   "source": [
    "#print(Msoup.prettify())"
   ]
  },
  {
   "cell_type": "code",
   "execution_count": 6,
   "id": "8b7588c2",
   "metadata": {
    "scrolled": true
   },
   "outputs": [],
   "source": [
    "#soup.find_all('h1')[0].text"
   ]
  },
  {
   "cell_type": "code",
   "execution_count": 7,
   "id": "0414cf0f",
   "metadata": {},
   "outputs": [],
   "source": [
    "#soup.find_all('td')[1].text"
   ]
  },
  {
   "cell_type": "code",
   "execution_count": 8,
   "id": "4b22f849",
   "metadata": {},
   "outputs": [
    {
     "data": {
      "text/plain": [
       "['COMPUTER SCIENCE FACULTY',\n",
       " 'NAME',\n",
       " 'DESIGNATION',\n",
       " 'QUALIFICATION',\n",
       " 'E-MAIL',\n",
       " 'Dr. Anjali Garg',\n",
       " 'Associate Professor',\n",
       " 'Ph.D, MCA, MFC Comp,',\n",
       " 'anjaligarg@gnimt.org',\n",
       " 'Dr. Sandeep Kaur',\n",
       " 'Associate Professor',\n",
       " 'Ph.D,M.Sc.(Math), M.Ed., Dip in Statistics',\n",
       " 'sandeepkaur@gnimt.org',\n",
       " 'Dr. Balvinder Taneja',\n",
       " 'Associate Professor',\n",
       " 'MCA,MBA',\n",
       " 'btaneja@gnimt.org',\n",
       " 'Dr. Harsimerjit Khurana',\n",
       " 'Associate Professor',\n",
       " 'Ph.D, MCM-Comp. & MBA',\n",
       " 'hkhurana@gnimt.org',\n",
       " 'Er. Ram Raghunandan',\n",
       " 'Assistant Professor',\n",
       " 'B.Tech(CSE), PGDBM, MBA',\n",
       " 'ramr@gnimt.org',\n",
       " 'Dr. Tripatdeep Singh',\n",
       " 'Associate Professor',\n",
       " 'Ph.D, MCA, MCSE',\n",
       " 'tripatdeepsingh@gnimt.org',\n",
       " 'Mr. Ravinder Singh',\n",
       " 'Assistant Professor',\n",
       " 'MCA',\n",
       " 'ravindersingh@gnimt.org',\n",
       " 'Ms. Amanpreet Kaur',\n",
       " 'Assistant Professor',\n",
       " 'M.Phil, MCA',\n",
       " 'amanpreetkaur@gnimt.org',\n",
       " 'GNIMT']"
      ]
     },
     "execution_count": 8,
     "metadata": {},
     "output_type": "execute_result"
    }
   ],
   "source": [
    "Cpr=[]\n",
    "for i in Csoup.find_all('strong'):\n",
    "  Cpr.append(i.text.strip())\n",
    "Cpr"
   ]
  },
  {
   "cell_type": "code",
   "execution_count": 9,
   "id": "16bff139",
   "metadata": {},
   "outputs": [
    {
     "data": {
      "text/plain": [
       "['Management Faculty',\n",
       " 'NAME',\n",
       " 'DESIGNATION',\n",
       " 'QUALIFICATION',\n",
       " 'E-MAIL',\n",
       " 'Dr. Upinder Kaur',\n",
       " 'Associate Professor',\n",
       " 'Ph.D.(Stat), M.Phill.,M.Sc.(Math)',\n",
       " 'upinderkaur@gnimt.org',\n",
       " 'Dr. Rajni Sofat',\n",
       " 'Associate Professor',\n",
       " 'Ph.D, M.Com., M.Phil(UGC)',\n",
       " 'rajnisofatr@gnimt.org',\n",
       " 'Dr. Ramneek Kaur',\n",
       " 'Associate Professor',\n",
       " 'Ph.D,M.Phil, MBA, M.Com.',\n",
       " 'ramneekkaur@gnimt.org',\n",
       " 'Dr. Inderpreet Kaur',\n",
       " 'Associate Professor',\n",
       " 'Ph.D, MBA(Marketing)',\n",
       " 'inderpreetkaur@gnimt.org',\n",
       " 'Mr. Rajan Sidhar',\n",
       " 'Associate Professor',\n",
       " 'Ph.D. Scholar MBA(Marketing)',\n",
       " 'rajansridhar@gnimt.org',\n",
       " 'Dr. Amanpreet Singh Brar',\n",
       " 'Associate Professor',\n",
       " 'Ph.D, MBA(Marketing)',\n",
       " 'amanpreetbrar@gnimt.org',\n",
       " 'Dr. Sunpreet Kaur',\n",
       " 'Associate Professor',\n",
       " 'Ph.D,MBA, PGDCA, PGDM',\n",
       " 'sunpreetkaur@gnimt.org',\n",
       " 'Dr. Munish Kapila',\n",
       " 'Associate Professor',\n",
       " 'Ph.D, M.Com UGC NET',\n",
       " 'munishkapila@gnimt.org',\n",
       " 'Mr. Pankaj Goel',\n",
       " 'Assistant Professor',\n",
       " 'Ph.D. Scholar, M.Com, MA(Economics) UGC NET',\n",
       " 'pankajgoel@gnimt.org',\n",
       " 'Dr. Nidhi Sharma',\n",
       " 'Assistant Professor',\n",
       " 'nidhisharma@gnimt.org',\n",
       " 'Dr. Ramandeep Kaur',\n",
       " 'Assistant Professor',\n",
       " 'Ph.D. Scholar, MBA(Marketing)',\n",
       " 'ramandeepkaur@gnimt.org',\n",
       " 'Ms. Harsimran Kaur',\n",
       " 'Assistant Professor',\n",
       " 'Ph.D. Scholar, MBA(Finance & Marketing)',\n",
       " 'harsimrankaur@gnimt.org',\n",
       " 'Ms. Gurleen Kaur',\n",
       " 'Lecturer',\n",
       " 'MBA(Marketing & Finance)',\n",
       " 'gurleen.chahal@ymail.com',\n",
       " 'Ms. Harneet Kaur',\n",
       " 'Lecturer',\n",
       " 'MBA(HRM & Marketing)',\n",
       " 'kaurharneet1511@gmail.com',\n",
       " 'GNIMT']"
      ]
     },
     "execution_count": 9,
     "metadata": {},
     "output_type": "execute_result"
    }
   ],
   "source": [
    "Mpr=[]\n",
    "for i in Msoup.find_all('strong'):\n",
    "  Mpr.append(i.text.strip())\n",
    "Mpr"
   ]
  },
  {
   "cell_type": "code",
   "execution_count": 10,
   "id": "b3ba634c",
   "metadata": {},
   "outputs": [
    {
     "data": {
      "text/plain": [
       "41"
      ]
     },
     "execution_count": 10,
     "metadata": {},
     "output_type": "execute_result"
    }
   ],
   "source": [
    "Mpr.index('Dr. Nidhi Sharma')"
   ]
  },
  {
   "cell_type": "code",
   "execution_count": 11,
   "id": "fff6d829",
   "metadata": {},
   "outputs": [],
   "source": [
    "Mpr.insert( 43, \"missing\")"
   ]
  },
  {
   "cell_type": "code",
   "execution_count": 12,
   "id": "cb361513",
   "metadata": {},
   "outputs": [
    {
     "data": {
      "text/plain": [
       "38"
      ]
     },
     "execution_count": 12,
     "metadata": {},
     "output_type": "execute_result"
    }
   ],
   "source": [
    "len(Cpr)"
   ]
  },
  {
   "cell_type": "code",
   "execution_count": 13,
   "id": "f6425a2d",
   "metadata": {},
   "outputs": [
    {
     "data": {
      "text/plain": [
       "62"
      ]
     },
     "execution_count": 13,
     "metadata": {},
     "output_type": "execute_result"
    }
   ],
   "source": [
    "len(Mpr)"
   ]
  },
  {
   "cell_type": "code",
   "execution_count": 14,
   "id": "c1bd5a41",
   "metadata": {},
   "outputs": [
    {
     "name": "stdout",
     "output_type": "stream",
     "text": [
      "5 8 11 14 17 20 23 26 29 32 35 "
     ]
    }
   ],
   "source": [
    "for n in range(5, len(Cpr),3):\n",
    "    print(n, end=' ')"
   ]
  },
  {
   "cell_type": "code",
   "execution_count": 15,
   "id": "76980f75",
   "metadata": {},
   "outputs": [
    {
     "name": "stdout",
     "output_type": "stream",
     "text": [
      "5 8 11 14 17 20 23 26 29 32 35 38 41 44 47 50 53 56 59 "
     ]
    }
   ],
   "source": [
    "for n in range(5, len(Mpr),3):\n",
    "    print(n, end=' ')"
   ]
  },
  {
   "cell_type": "code",
   "execution_count": 16,
   "id": "3356cc50",
   "metadata": {},
   "outputs": [],
   "source": [
    "# We can use argument-unpacking operator i.e. *.\n",
    "i = [*range(5, len(Cpr)-1, 4)]\n",
    "j = [*range(6, len(Cpr)-1, 4)]\n",
    "k = [*range(7, len(Cpr)-1, 4)]\n",
    "l = [*range(8, len(Cpr)-1, 4)]"
   ]
  },
  {
   "cell_type": "code",
   "execution_count": 17,
   "id": "2d847a09",
   "metadata": {},
   "outputs": [
    {
     "name": "stdout",
     "output_type": "stream",
     "text": [
      "['Dr. Anjali Garg', 'Dr. Sandeep Kaur', 'Dr. Balvinder Taneja', 'Dr. Harsimerjit Khurana', 'Er. Ram Raghunandan', 'Dr. Tripatdeep Singh', 'Mr. Ravinder Singh', 'Ms. Amanpreet Kaur']\n"
     ]
    },
    {
     "data": {
      "text/plain": [
       "8"
      ]
     },
     "execution_count": 17,
     "metadata": {},
     "output_type": "execute_result"
    }
   ],
   "source": [
    "Cname = []\n",
    "for index in i:\n",
    "    Cname.append(Cpr[index])\n",
    "print(Cname)\n",
    "len(Cname)"
   ]
  },
  {
   "cell_type": "code",
   "execution_count": 18,
   "id": "35a1459f",
   "metadata": {},
   "outputs": [
    {
     "name": "stdout",
     "output_type": "stream",
     "text": [
      "['Associate Professor', 'Associate Professor', 'Associate Professor', 'Associate Professor', 'Assistant Professor', 'Associate Professor', 'Assistant Professor', 'Assistant Professor']\n"
     ]
    },
    {
     "data": {
      "text/plain": [
       "8"
      ]
     },
     "execution_count": 18,
     "metadata": {},
     "output_type": "execute_result"
    }
   ],
   "source": [
    "CDESIGNATION = []\n",
    "for index in j:\n",
    "    CDESIGNATION.append(Cpr[index])\n",
    "print(CDESIGNATION)\n",
    "len(CDESIGNATION)"
   ]
  },
  {
   "cell_type": "code",
   "execution_count": 19,
   "id": "f9a0a085",
   "metadata": {},
   "outputs": [
    {
     "name": "stdout",
     "output_type": "stream",
     "text": [
      "['Ph.D, MCA, MFC Comp,', 'Ph.D,M.Sc.(Math), M.Ed., Dip in Statistics', 'MCA,MBA', 'Ph.D, MCM-Comp. & MBA', 'B.Tech(CSE), PGDBM, MBA', 'Ph.D, MCA, MCSE', 'MCA', 'M.Phil, MCA']\n"
     ]
    },
    {
     "data": {
      "text/plain": [
       "8"
      ]
     },
     "execution_count": 19,
     "metadata": {},
     "output_type": "execute_result"
    }
   ],
   "source": [
    "CQUALIFICATION = []\n",
    "for index in k:\n",
    "    CQUALIFICATION.append(Cpr[index])\n",
    "print(CQUALIFICATION)\n",
    "len(CQUALIFICATION)"
   ]
  },
  {
   "cell_type": "code",
   "execution_count": 20,
   "id": "4574319f",
   "metadata": {},
   "outputs": [
    {
     "name": "stdout",
     "output_type": "stream",
     "text": [
      "['anjaligarg@gnimt.org', 'sandeepkaur@gnimt.org', 'btaneja@gnimt.org', 'hkhurana@gnimt.org', 'ramr@gnimt.org', 'tripatdeepsingh@gnimt.org', 'ravindersingh@gnimt.org', 'amanpreetkaur@gnimt.org']\n"
     ]
    },
    {
     "data": {
      "text/plain": [
       "8"
      ]
     },
     "execution_count": 20,
     "metadata": {},
     "output_type": "execute_result"
    }
   ],
   "source": [
    "CEMAIL = []\n",
    "for index in l:\n",
    "    CEMAIL.append(Cpr[index])\n",
    "print(CEMAIL)\n",
    "len(CEMAIL)"
   ]
  },
  {
   "cell_type": "code",
   "execution_count": 21,
   "id": "fef3dfeb",
   "metadata": {},
   "outputs": [],
   "source": [
    "# We can use argument-unpacking operator i.e. *.\n",
    "Mi = [*range(5, len(Mpr)-1, 4)]\n",
    "Mj = [*range(6, len(Mpr)-1, 4)]\n",
    "Mk = [*range(7, len(Mpr)-1, 4)]\n",
    "Ml = [*range(8, len(Mpr)-1, 4)]"
   ]
  },
  {
   "cell_type": "code",
   "execution_count": 22,
   "id": "c5988b0c",
   "metadata": {},
   "outputs": [
    {
     "name": "stdout",
     "output_type": "stream",
     "text": [
      "['Dr. Upinder Kaur', 'Dr. Rajni Sofat', 'Dr. Ramneek Kaur', 'Dr. Inderpreet Kaur', 'Mr. Rajan Sidhar', 'Dr. Amanpreet Singh Brar', 'Dr. Sunpreet Kaur', 'Dr. Munish Kapila', 'Mr. Pankaj Goel', 'Dr. Nidhi Sharma', 'Dr. Ramandeep Kaur', 'Ms. Harsimran Kaur', 'Ms. Gurleen Kaur', 'Ms. Harneet Kaur']\n"
     ]
    },
    {
     "data": {
      "text/plain": [
       "14"
      ]
     },
     "execution_count": 22,
     "metadata": {},
     "output_type": "execute_result"
    }
   ],
   "source": [
    "Mname = []\n",
    "for index in Mi:\n",
    "    Mname.append(Mpr[index])\n",
    "print(Mname)\n",
    "len(Mname)"
   ]
  },
  {
   "cell_type": "code",
   "execution_count": 23,
   "id": "df89f278",
   "metadata": {},
   "outputs": [
    {
     "name": "stdout",
     "output_type": "stream",
     "text": [
      "['Associate Professor', 'Associate Professor', 'Associate Professor', 'Associate Professor', 'Associate Professor', 'Associate Professor', 'Associate Professor', 'Associate Professor', 'Assistant Professor', 'Assistant Professor', 'Assistant Professor', 'Assistant Professor', 'Lecturer', 'Lecturer']\n"
     ]
    },
    {
     "data": {
      "text/plain": [
       "14"
      ]
     },
     "execution_count": 23,
     "metadata": {},
     "output_type": "execute_result"
    }
   ],
   "source": [
    "MDESIGNATION = []\n",
    "for index in Mj:\n",
    "    MDESIGNATION.append(Mpr[index])\n",
    "print(MDESIGNATION)\n",
    "len(MDESIGNATION)"
   ]
  },
  {
   "cell_type": "code",
   "execution_count": 24,
   "id": "bf0a5324",
   "metadata": {},
   "outputs": [
    {
     "name": "stdout",
     "output_type": "stream",
     "text": [
      "['Ph.D.(Stat), M.Phill.,M.Sc.(Math)', 'Ph.D, M.Com., M.Phil(UGC)', 'Ph.D,M.Phil, MBA, M.Com.', 'Ph.D, MBA(Marketing)', 'Ph.D. Scholar MBA(Marketing)', 'Ph.D, MBA(Marketing)', 'Ph.D,MBA, PGDCA, PGDM', 'Ph.D, M.Com UGC NET', 'Ph.D. Scholar, M.Com, MA(Economics) UGC NET', 'missing', 'Ph.D. Scholar, MBA(Marketing)', 'Ph.D. Scholar, MBA(Finance & Marketing)', 'MBA(Marketing & Finance)', 'MBA(HRM & Marketing)']\n"
     ]
    },
    {
     "data": {
      "text/plain": [
       "14"
      ]
     },
     "execution_count": 24,
     "metadata": {},
     "output_type": "execute_result"
    }
   ],
   "source": [
    "MQUALIFICATION = []\n",
    "for index in Mk:\n",
    "    MQUALIFICATION.append(Mpr[index])\n",
    "print(MQUALIFICATION)\n",
    "len(MQUALIFICATION)"
   ]
  },
  {
   "cell_type": "code",
   "execution_count": 25,
   "id": "8bdf7b7f",
   "metadata": {},
   "outputs": [
    {
     "name": "stdout",
     "output_type": "stream",
     "text": [
      "['upinderkaur@gnimt.org', 'rajnisofatr@gnimt.org', 'ramneekkaur@gnimt.org', 'inderpreetkaur@gnimt.org', 'rajansridhar@gnimt.org', 'amanpreetbrar@gnimt.org', 'sunpreetkaur@gnimt.org', 'munishkapila@gnimt.org', 'pankajgoel@gnimt.org', 'nidhisharma@gnimt.org', 'ramandeepkaur@gnimt.org', 'harsimrankaur@gnimt.org', 'gurleen.chahal@ymail.com', 'kaurharneet1511@gmail.com']\n"
     ]
    },
    {
     "data": {
      "text/plain": [
       "14"
      ]
     },
     "execution_count": 25,
     "metadata": {},
     "output_type": "execute_result"
    }
   ],
   "source": [
    "MEMAIL = []\n",
    "for index in Ml:\n",
    "    MEMAIL.append(Mpr[index])\n",
    "print(MEMAIL)\n",
    "len(MEMAIL)"
   ]
  },
  {
   "cell_type": "code",
   "execution_count": 26,
   "id": "5e96d492",
   "metadata": {},
   "outputs": [],
   "source": [
    "Cdf=pd.DataFrame({'name':Cname,\"Designation\":CDESIGNATION,\"Qualification\":CQUALIFICATION,\"Email\":CEMAIL})\n",
    "Mdf=pd.DataFrame({'name':Mname,\"Designation\":MDESIGNATION,\"Qualification\":MQUALIFICATION,\"Email\":MEMAIL})"
   ]
  },
  {
   "cell_type": "code",
   "execution_count": 27,
   "id": "05780fb6",
   "metadata": {},
   "outputs": [],
   "source": [
    "df=Cdf.append(Mdf).reset_index()"
   ]
  },
  {
   "cell_type": "code",
   "execution_count": 28,
   "id": "08b60e6f",
   "metadata": {},
   "outputs": [
    {
     "data": {
      "text/html": [
       "<div>\n",
       "<style scoped>\n",
       "    .dataframe tbody tr th:only-of-type {\n",
       "        vertical-align: middle;\n",
       "    }\n",
       "\n",
       "    .dataframe tbody tr th {\n",
       "        vertical-align: top;\n",
       "    }\n",
       "\n",
       "    .dataframe thead th {\n",
       "        text-align: right;\n",
       "    }\n",
       "</style>\n",
       "<table border=\"1\" class=\"dataframe\">\n",
       "  <thead>\n",
       "    <tr style=\"text-align: right;\">\n",
       "      <th></th>\n",
       "      <th>index</th>\n",
       "      <th>name</th>\n",
       "      <th>Designation</th>\n",
       "      <th>Qualification</th>\n",
       "      <th>Email</th>\n",
       "    </tr>\n",
       "  </thead>\n",
       "  <tbody>\n",
       "    <tr>\n",
       "      <th>0</th>\n",
       "      <td>0</td>\n",
       "      <td>Dr. Anjali Garg</td>\n",
       "      <td>Associate Professor</td>\n",
       "      <td>Ph.D, MCA, MFC Comp,</td>\n",
       "      <td>anjaligarg@gnimt.org</td>\n",
       "    </tr>\n",
       "    <tr>\n",
       "      <th>1</th>\n",
       "      <td>1</td>\n",
       "      <td>Dr. Sandeep Kaur</td>\n",
       "      <td>Associate Professor</td>\n",
       "      <td>Ph.D,M.Sc.(Math), M.Ed., Dip in Statistics</td>\n",
       "      <td>sandeepkaur@gnimt.org</td>\n",
       "    </tr>\n",
       "    <tr>\n",
       "      <th>2</th>\n",
       "      <td>2</td>\n",
       "      <td>Dr. Balvinder Taneja</td>\n",
       "      <td>Associate Professor</td>\n",
       "      <td>MCA,MBA</td>\n",
       "      <td>btaneja@gnimt.org</td>\n",
       "    </tr>\n",
       "    <tr>\n",
       "      <th>3</th>\n",
       "      <td>3</td>\n",
       "      <td>Dr. Harsimerjit Khurana</td>\n",
       "      <td>Associate Professor</td>\n",
       "      <td>Ph.D, MCM-Comp. &amp; MBA</td>\n",
       "      <td>hkhurana@gnimt.org</td>\n",
       "    </tr>\n",
       "    <tr>\n",
       "      <th>4</th>\n",
       "      <td>4</td>\n",
       "      <td>Er. Ram Raghunandan</td>\n",
       "      <td>Assistant Professor</td>\n",
       "      <td>B.Tech(CSE), PGDBM, MBA</td>\n",
       "      <td>ramr@gnimt.org</td>\n",
       "    </tr>\n",
       "    <tr>\n",
       "      <th>5</th>\n",
       "      <td>5</td>\n",
       "      <td>Dr. Tripatdeep Singh</td>\n",
       "      <td>Associate Professor</td>\n",
       "      <td>Ph.D, MCA, MCSE</td>\n",
       "      <td>tripatdeepsingh@gnimt.org</td>\n",
       "    </tr>\n",
       "    <tr>\n",
       "      <th>6</th>\n",
       "      <td>6</td>\n",
       "      <td>Mr. Ravinder Singh</td>\n",
       "      <td>Assistant Professor</td>\n",
       "      <td>MCA</td>\n",
       "      <td>ravindersingh@gnimt.org</td>\n",
       "    </tr>\n",
       "    <tr>\n",
       "      <th>7</th>\n",
       "      <td>7</td>\n",
       "      <td>Ms. Amanpreet Kaur</td>\n",
       "      <td>Assistant Professor</td>\n",
       "      <td>M.Phil, MCA</td>\n",
       "      <td>amanpreetkaur@gnimt.org</td>\n",
       "    </tr>\n",
       "    <tr>\n",
       "      <th>8</th>\n",
       "      <td>0</td>\n",
       "      <td>Dr. Upinder Kaur</td>\n",
       "      <td>Associate Professor</td>\n",
       "      <td>Ph.D.(Stat), M.Phill.,M.Sc.(Math)</td>\n",
       "      <td>upinderkaur@gnimt.org</td>\n",
       "    </tr>\n",
       "    <tr>\n",
       "      <th>9</th>\n",
       "      <td>1</td>\n",
       "      <td>Dr. Rajni Sofat</td>\n",
       "      <td>Associate Professor</td>\n",
       "      <td>Ph.D, M.Com., M.Phil(UGC)</td>\n",
       "      <td>rajnisofatr@gnimt.org</td>\n",
       "    </tr>\n",
       "    <tr>\n",
       "      <th>10</th>\n",
       "      <td>2</td>\n",
       "      <td>Dr. Ramneek Kaur</td>\n",
       "      <td>Associate Professor</td>\n",
       "      <td>Ph.D,M.Phil, MBA, M.Com.</td>\n",
       "      <td>ramneekkaur@gnimt.org</td>\n",
       "    </tr>\n",
       "    <tr>\n",
       "      <th>11</th>\n",
       "      <td>3</td>\n",
       "      <td>Dr. Inderpreet Kaur</td>\n",
       "      <td>Associate Professor</td>\n",
       "      <td>Ph.D, MBA(Marketing)</td>\n",
       "      <td>inderpreetkaur@gnimt.org</td>\n",
       "    </tr>\n",
       "    <tr>\n",
       "      <th>12</th>\n",
       "      <td>4</td>\n",
       "      <td>Mr. Rajan Sidhar</td>\n",
       "      <td>Associate Professor</td>\n",
       "      <td>Ph.D. Scholar MBA(Marketing)</td>\n",
       "      <td>rajansridhar@gnimt.org</td>\n",
       "    </tr>\n",
       "    <tr>\n",
       "      <th>13</th>\n",
       "      <td>5</td>\n",
       "      <td>Dr. Amanpreet Singh Brar</td>\n",
       "      <td>Associate Professor</td>\n",
       "      <td>Ph.D, MBA(Marketing)</td>\n",
       "      <td>amanpreetbrar@gnimt.org</td>\n",
       "    </tr>\n",
       "    <tr>\n",
       "      <th>14</th>\n",
       "      <td>6</td>\n",
       "      <td>Dr. Sunpreet Kaur</td>\n",
       "      <td>Associate Professor</td>\n",
       "      <td>Ph.D,MBA, PGDCA, PGDM</td>\n",
       "      <td>sunpreetkaur@gnimt.org</td>\n",
       "    </tr>\n",
       "    <tr>\n",
       "      <th>15</th>\n",
       "      <td>7</td>\n",
       "      <td>Dr. Munish Kapila</td>\n",
       "      <td>Associate Professor</td>\n",
       "      <td>Ph.D, M.Com UGC NET</td>\n",
       "      <td>munishkapila@gnimt.org</td>\n",
       "    </tr>\n",
       "    <tr>\n",
       "      <th>16</th>\n",
       "      <td>8</td>\n",
       "      <td>Mr. Pankaj Goel</td>\n",
       "      <td>Assistant Professor</td>\n",
       "      <td>Ph.D. Scholar, M.Com, MA(Economics) UGC NET</td>\n",
       "      <td>pankajgoel@gnimt.org</td>\n",
       "    </tr>\n",
       "    <tr>\n",
       "      <th>17</th>\n",
       "      <td>9</td>\n",
       "      <td>Dr. Nidhi Sharma</td>\n",
       "      <td>Assistant Professor</td>\n",
       "      <td>missing</td>\n",
       "      <td>nidhisharma@gnimt.org</td>\n",
       "    </tr>\n",
       "    <tr>\n",
       "      <th>18</th>\n",
       "      <td>10</td>\n",
       "      <td>Dr. Ramandeep Kaur</td>\n",
       "      <td>Assistant Professor</td>\n",
       "      <td>Ph.D. Scholar, MBA(Marketing)</td>\n",
       "      <td>ramandeepkaur@gnimt.org</td>\n",
       "    </tr>\n",
       "    <tr>\n",
       "      <th>19</th>\n",
       "      <td>11</td>\n",
       "      <td>Ms. Harsimran Kaur</td>\n",
       "      <td>Assistant Professor</td>\n",
       "      <td>Ph.D. Scholar, MBA(Finance &amp; Marketing)</td>\n",
       "      <td>harsimrankaur@gnimt.org</td>\n",
       "    </tr>\n",
       "    <tr>\n",
       "      <th>20</th>\n",
       "      <td>12</td>\n",
       "      <td>Ms. Gurleen Kaur</td>\n",
       "      <td>Lecturer</td>\n",
       "      <td>MBA(Marketing &amp; Finance)</td>\n",
       "      <td>gurleen.chahal@ymail.com</td>\n",
       "    </tr>\n",
       "    <tr>\n",
       "      <th>21</th>\n",
       "      <td>13</td>\n",
       "      <td>Ms. Harneet Kaur</td>\n",
       "      <td>Lecturer</td>\n",
       "      <td>MBA(HRM &amp; Marketing)</td>\n",
       "      <td>kaurharneet1511@gmail.com</td>\n",
       "    </tr>\n",
       "  </tbody>\n",
       "</table>\n",
       "</div>"
      ],
      "text/plain": [
       "    index                      name          Designation  \\\n",
       "0       0           Dr. Anjali Garg  Associate Professor   \n",
       "1       1          Dr. Sandeep Kaur  Associate Professor   \n",
       "2       2      Dr. Balvinder Taneja  Associate Professor   \n",
       "3       3   Dr. Harsimerjit Khurana  Associate Professor   \n",
       "4       4       Er. Ram Raghunandan  Assistant Professor   \n",
       "5       5      Dr. Tripatdeep Singh  Associate Professor   \n",
       "6       6        Mr. Ravinder Singh  Assistant Professor   \n",
       "7       7        Ms. Amanpreet Kaur  Assistant Professor   \n",
       "8       0          Dr. Upinder Kaur  Associate Professor   \n",
       "9       1           Dr. Rajni Sofat  Associate Professor   \n",
       "10      2          Dr. Ramneek Kaur  Associate Professor   \n",
       "11      3       Dr. Inderpreet Kaur  Associate Professor   \n",
       "12      4          Mr. Rajan Sidhar  Associate Professor   \n",
       "13      5  Dr. Amanpreet Singh Brar  Associate Professor   \n",
       "14      6         Dr. Sunpreet Kaur  Associate Professor   \n",
       "15      7         Dr. Munish Kapila  Associate Professor   \n",
       "16      8           Mr. Pankaj Goel  Assistant Professor   \n",
       "17      9          Dr. Nidhi Sharma  Assistant Professor   \n",
       "18     10        Dr. Ramandeep Kaur  Assistant Professor   \n",
       "19     11        Ms. Harsimran Kaur  Assistant Professor   \n",
       "20     12          Ms. Gurleen Kaur             Lecturer   \n",
       "21     13          Ms. Harneet Kaur             Lecturer   \n",
       "\n",
       "                                  Qualification                      Email  \n",
       "0                          Ph.D, MCA, MFC Comp,       anjaligarg@gnimt.org  \n",
       "1    Ph.D,M.Sc.(Math), M.Ed., Dip in Statistics      sandeepkaur@gnimt.org  \n",
       "2                                       MCA,MBA          btaneja@gnimt.org  \n",
       "3                         Ph.D, MCM-Comp. & MBA         hkhurana@gnimt.org  \n",
       "4                       B.Tech(CSE), PGDBM, MBA             ramr@gnimt.org  \n",
       "5                               Ph.D, MCA, MCSE  tripatdeepsingh@gnimt.org  \n",
       "6                                           MCA    ravindersingh@gnimt.org  \n",
       "7                                   M.Phil, MCA    amanpreetkaur@gnimt.org  \n",
       "8             Ph.D.(Stat), M.Phill.,M.Sc.(Math)      upinderkaur@gnimt.org  \n",
       "9                     Ph.D, M.Com., M.Phil(UGC)      rajnisofatr@gnimt.org  \n",
       "10                     Ph.D,M.Phil, MBA, M.Com.      ramneekkaur@gnimt.org  \n",
       "11                         Ph.D, MBA(Marketing)   inderpreetkaur@gnimt.org  \n",
       "12                 Ph.D. Scholar MBA(Marketing)     rajansridhar@gnimt.org  \n",
       "13                         Ph.D, MBA(Marketing)    amanpreetbrar@gnimt.org  \n",
       "14                        Ph.D,MBA, PGDCA, PGDM     sunpreetkaur@gnimt.org  \n",
       "15                          Ph.D, M.Com UGC NET     munishkapila@gnimt.org  \n",
       "16  Ph.D. Scholar, M.Com, MA(Economics) UGC NET       pankajgoel@gnimt.org  \n",
       "17                                      missing      nidhisharma@gnimt.org  \n",
       "18                Ph.D. Scholar, MBA(Marketing)    ramandeepkaur@gnimt.org  \n",
       "19      Ph.D. Scholar, MBA(Finance & Marketing)    harsimrankaur@gnimt.org  \n",
       "20                     MBA(Marketing & Finance)   gurleen.chahal@ymail.com  \n",
       "21                         MBA(HRM & Marketing)  kaurharneet1511@gmail.com  "
      ]
     },
     "execution_count": 28,
     "metadata": {},
     "output_type": "execute_result"
    }
   ],
   "source": [
    "df"
   ]
  },
  {
   "cell_type": "code",
   "execution_count": 31,
   "id": "6b7c6a4d",
   "metadata": {},
   "outputs": [],
   "source": [
    "df.drop(['index'], axis=1,inplace=True)"
   ]
  },
  {
   "cell_type": "code",
   "execution_count": 35,
   "id": "c4d26ae7",
   "metadata": {},
   "outputs": [],
   "source": [
    "df.to_csv(\"Faculty.csv\")"
   ]
  }
 ],
 "metadata": {
  "kernelspec": {
   "display_name": "Python 3 (ipykernel)",
   "language": "python",
   "name": "python3"
  },
  "language_info": {
   "codemirror_mode": {
    "name": "ipython",
    "version": 3
   },
   "file_extension": ".py",
   "mimetype": "text/x-python",
   "name": "python",
   "nbconvert_exporter": "python",
   "pygments_lexer": "ipython3",
   "version": "3.9.7"
  }
 },
 "nbformat": 4,
 "nbformat_minor": 5
}
